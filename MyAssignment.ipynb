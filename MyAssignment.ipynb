{
 "cells": [
  {
   "cell_type": "markdown",
   "id": "042b1641-f4ac-45a1-b34c-c058f27c195d",
   "metadata": {},
   "source": [
    "<center>\n",
    "    <img src=\"https://cf-courses-data.s3.us.cloud-object-storage.appdomain.cloud/IBMDeveloperSkillsNetwork-DS0105EN-SkillsNetwork/labs/Module2/images/SN_web_lightmode.png\" width=\"300\" alt=\"cognitiveclass.ai logo\">\n",
    "</center>"
   ]
  },
  {
   "cell_type": "markdown",
   "id": "d3da9385-d441-4be5-b4b8-030b8a2019b2",
   "metadata": {},
   "source": [
    "# My Jupyter Notebook on IBM Watson Studio"
   ]
  },
  {
   "cell_type": "markdown",
   "id": "4ba11263-cbe3-4156-a8ab-36ddd1138fbc",
   "metadata": {},
   "source": [
    "__Simon Asaye__ "
   ]
  },
  {
   "cell_type": "markdown",
   "id": "7a920054-110b-44c9-96b0-a2bfe15e9551",
   "metadata": {},
   "source": [
    "*I am interested in Data science because it enables me to understand more of data*"
   ]
  },
  {
   "cell_type": "markdown",
   "id": "a890e59d-2aae-4762-ae0b-58fb3af79ad4",
   "metadata": {},
   "source": [
    "Here is a simple code to test if a word is Palindrome or not "
   ]
  },
  {
   "cell_type": "code",
   "execution_count": 2,
   "id": "ee4e61e2-8227-4e0e-8562-4499e1e8f40e",
   "metadata": {},
   "outputs": [
    {
     "name": "stdin",
     "output_type": "stream",
     "text": [
      "Enter a word:  Sis\n"
     ]
    },
    {
     "name": "stdout",
     "output_type": "stream",
     "text": [
      "The word is not a palindrome.\n"
     ]
    }
   ],
   "source": [
    "def is_palindrome(word):\n",
    "  return word == word[::-1]\n",
    "word = input(\"Enter a word: \")\n",
    "if is_palindrome(word):\n",
    "  print(\"The word is a palindrome.\")\n",
    "else:\n",
    "  print(\"The word is not a palindrome.\")"
   ]
  },
  {
   "cell_type": "markdown",
   "id": "99a5baed-8b0b-4420-8349-628c8f61b5df",
   "metadata": {},
   "source": [
    "| Header | Header | Header |\n",
    "| ------ | ------ | ------ |\n",
    "| Cell   | Cell   | Cell   |"
   ]
  }
 ],
 "metadata": {
  "kernelspec": {
   "display_name": "Python",
   "language": "python",
   "name": "conda-env-python-py"
  },
  "language_info": {
   "codemirror_mode": {
    "name": "ipython",
    "version": 3
   },
   "file_extension": ".py",
   "mimetype": "text/x-python",
   "name": "python",
   "nbconvert_exporter": "python",
   "pygments_lexer": "ipython3",
   "version": "3.7.12"
  }
 },
 "nbformat": 4,
 "nbformat_minor": 5
}
